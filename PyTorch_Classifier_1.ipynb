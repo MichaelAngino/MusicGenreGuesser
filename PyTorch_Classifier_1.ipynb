{
 "cells": [
  {
   "cell_type": "code",
   "execution_count": null,
   "metadata": {},
   "outputs": [],
   "source": [
    "import numpy as np\n",
    "import torch\n",
    "import matplotlib.pyplot as plt\n",
    "import csv\n"
   ]
  },
  {
   "cell_type": "code",
   "execution_count": null,
   "metadata": {},
   "outputs": [],
   "source": [
    "# import training data\n",
    "from sklearn import preprocessing\n",
    "\n",
    "\n",
    "def import_training_labels():\n",
    "    labels = []\n",
    "    with open('train.csv') as csv_file:\n",
    "        csv_reader = csv.reader(csv_file, delimiter=',')\n",
    "        for row in csv_reader:\n",
    "            labels.append(row[1])\n",
    "\n",
    "    labels.pop(0)\n",
    "\n",
    "    return labels\n",
    "\n",
    "label_list = [\"blues\", \"hiphop\", \"jazz\", \"metal\", \"disco\", \"country\", \"rock\", \"reggae\", \"classical\", \"pop\"]\n",
    "\n",
    "training_data = np.load(\"Training_Data_vector.npy\").astype(np.double)\n",
    "tensor_train_data = torch.from_numpy(training_data)\n",
    "\n",
    "training_labels = import_training_labels()\n",
    "le = preprocessing.LabelEncoder() # Changes text labels to numerical tensors\n",
    "le.fit(label_list)\n",
    "new_labels = le.transform(training_labels)\n",
    "tensor_labels = torch.tensor(new_labels, dtype=torch.double)\n"
   ]
  },
  {
   "cell_type": "code",
   "execution_count": null,
   "metadata": {},
   "outputs": [],
   "source": [
    "import torch.nn as nn\n",
    "import torch.nn.functional as F\n",
    "\n",
    "\n",
    "entries_per_sample = 24\n",
    "\n",
    "\n",
    "class Net(nn.Module):\n",
    "    def __init__(self):\n",
    "        super(Net, self).__init__()\n",
    "        self.full_connect1 = nn.Linear(entries_per_sample, 256)\n",
    "        self.full_connect2 = nn.Linear(256, 128)\n",
    "        self.full_connect3 = nn.Linear(128, 64)\n",
    "        self.full_connect4 = nn.Linear(64, 10)\n",
    "\n",
    "    def forward(self, x):\n",
    "        x = F.relu(self.full_connect1(x))\n",
    "        x = F.relu(self.full_connect2(x))\n",
    "        x = F.relu(self.full_connect3(x))\n",
    "        x = F.log_softmax(self.full_connect4(x), dim=0)\n",
    "#         x = self.full_connect4(x)\n",
    "        return x\n",
    "\n",
    "\n",
    "net = Net()"
   ]
  },
  {
   "cell_type": "code",
   "execution_count": null,
   "metadata": {},
   "outputs": [],
   "source": [
    "import torch.optim as optim\n",
    "\n",
    "criterion = nn.CrossEntropyLoss()\n",
    "optimizer = optim.SGD(net.parameters(), lr=0.001, momentum=0.9)"
   ]
  },
  {
   "cell_type": "code",
   "execution_count": null,
   "metadata": {
    "scrolled": true
   },
   "outputs": [],
   "source": [
    "for epoch in range(2):  # loop over the dataset multiple times\n",
    "\n",
    "    running_loss = 0.0\n",
    "    for i in range(len(tensor_labels)):\n",
    "        # get the inputs; data is a list of [inputs, labels]\n",
    "        inputs = tensor_train_data[:,i]\n",
    "        label = tensor_labels[i]\n",
    "        \n",
    "        # zero the parameter gradients\n",
    "        optimizer.zero_grad()\n",
    "\n",
    "        # forward + backward + optimize\n",
    "        outputs = net(inputs.float())\n",
    "        print(outputs)\n",
    "        print(label)\n",
    "#         loss = criterion(outputs, label)\n",
    "        loss = F.nll_loss(outputs, label)\n",
    "        loss.backward()\n",
    "        optimizer.step()\n",
    "\n",
    "        # print statistics\n",
    "        running_loss += loss.item()\n",
    "        if i % 2000 == 1999:    # print every 2000 mini-batches\n",
    "            print('[%d, %5d] loss: %.3f' %\n",
    "                  (epoch + 1, i + 1, running_loss / 2000))\n",
    "            running_loss = 0.0\n",
    "\n",
    "print('Finished Training')"
   ]
  },
  {
   "cell_type": "code",
   "execution_count": null,
   "metadata": {},
   "outputs": [],
   "source": [
    "PATH = './nn_classfier1.pth'\n",
    "torch.save(net.state_dict(), PATH)"
   ]
  },
  {
   "cell_type": "code",
   "execution_count": null,
   "metadata": {},
   "outputs": [],
   "source": []
  }
 ],
 "metadata": {
  "kernelspec": {
   "display_name": "venv",
   "language": "python",
   "name": "venv"
  },
  "language_info": {
   "codemirror_mode": {
    "name": "ipython",
    "version": 3
   },
   "file_extension": ".py",
   "mimetype": "text/x-python",
   "name": "python",
   "nbconvert_exporter": "python",
   "pygments_lexer": "ipython3",
   "version": "3.8.7"
  }
 },
 "nbformat": 4,
 "nbformat_minor": 2
}
